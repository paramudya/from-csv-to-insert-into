{
 "cells": [
  {
   "cell_type": "code",
   "execution_count": 38,
   "id": "8e8f93e5-633e-41f3-8907-3985b7200eb8",
   "metadata": {},
   "outputs": [],
   "source": [
    "import pandas as pd\n",
    "import seaborn as sns"
   ]
  },
  {
   "cell_type": "markdown",
   "id": "3a7155a5-e4a9-412b-bed0-f4b5d28023e4",
   "metadata": {
    "tags": []
   },
   "source": [
    "### 2. korelasi transaksi echannel dengan saldo"
   ]
  },
  {
   "cell_type": "markdown",
   "id": "8c2a1bfa-2658-4206-8c83-bb09dc2cc08c",
   "metadata": {},
   "source": [
    "#### internet banking"
   ]
  },
  {
   "cell_type": "code",
   "execution_count": 39,
   "id": "d6d36c0e-50bb-4598-b95f-b580fe37790b",
   "metadata": {},
   "outputs": [],
   "source": [
    "df=pd.DataFrame()\n",
    "for i in range(1,6):\n",
    "    df=df.append(pd.read_csv(f'omni_2_{i}.csv'))\n",
    "df=df.drop(columns=['cif'])"
   ]
  },
  {
   "cell_type": "code",
   "execution_count": 40,
   "id": "7a766a6e-db6d-4350-b5be-7981ea53522d",
   "metadata": {},
   "outputs": [
    {
     "data": {
      "text/plain": [
       "424665"
      ]
     },
     "execution_count": 40,
     "metadata": {},
     "output_type": "execute_result"
    }
   ],
   "source": [
    "len(df)"
   ]
  },
  {
   "cell_type": "code",
   "execution_count": 41,
   "id": "655f4052-74dc-48c1-abc4-89bdad370dd8",
   "metadata": {},
   "outputs": [
    {
     "data": {
      "text/plain": [
       "frekuensi rtg   -0.140472\n",
       "frekuensi pos    0.007286\n",
       "frekuensi wib   -0.023752\n",
       "frekuensi clr   -0.011591\n",
       "frekuensi swt    0.016943\n",
       "saldo            1.000000\n",
       "Name: saldo, dtype: float64"
      ]
     },
     "execution_count": 41,
     "metadata": {},
     "output_type": "execute_result"
    }
   ],
   "source": [
    "df.corr()['saldo']"
   ]
  },
  {
   "cell_type": "markdown",
   "id": "d2411047-43f1-46e1-b477-b0bc92c2dbfd",
   "metadata": {},
   "source": [
    "#### sms"
   ]
  },
  {
   "cell_type": "code",
   "execution_count": 52,
   "id": "fe18c4b7-6651-40c6-9c71-e1ee6040fa65",
   "metadata": {},
   "outputs": [],
   "source": [
    "df_sms=pd.read_csv('omni_2_sms.csv').drop(columns=['cif'])"
   ]
  },
  {
   "cell_type": "code",
   "execution_count": 53,
   "id": "e2930f7b-980b-4535-aedb-d03fde726f33",
   "metadata": {},
   "outputs": [
    {
     "data": {
      "text/plain": [
       "frekuensi sal_dplk     0.768156\n",
       "frekuensi pos          0.017101\n",
       "frekuensi trf         -0.019738\n",
       "frekuensi antarbank    0.060512\n",
       "saldo                  1.000000\n",
       "Name: saldo, dtype: float64"
      ]
     },
     "execution_count": 53,
     "metadata": {},
     "output_type": "execute_result"
    }
   ],
   "source": [
    "df_sms.corr()['saldo']"
   ]
  },
  {
   "cell_type": "markdown",
   "id": "3f4c584e-2040-467a-b77c-f7a7323248d1",
   "metadata": {},
   "source": [
    "karena sal_dplk cuman ada 45 trx jadi rentan outlier"
   ]
  },
  {
   "cell_type": "markdown",
   "id": "efc32840-f460-4318-8dc9-ab18b972bcc0",
   "metadata": {},
   "source": [
    "#### mbanking"
   ]
  },
  {
   "cell_type": "code",
   "execution_count": null,
   "id": "421514d7-f5d6-44ad-8ac7-fa86e65dbc8b",
   "metadata": {},
   "outputs": [],
   "source": []
  }
 ],
 "metadata": {
  "kernelspec": {
   "display_name": "Python 3",
   "language": "python",
   "name": "python3"
  },
  "language_info": {
   "codemirror_mode": {
    "name": "ipython",
    "version": 3
   },
   "file_extension": ".py",
   "mimetype": "text/x-python",
   "name": "python",
   "nbconvert_exporter": "python",
   "pygments_lexer": "ipython3",
   "version": "3.8.8"
  }
 },
 "nbformat": 4,
 "nbformat_minor": 5
}

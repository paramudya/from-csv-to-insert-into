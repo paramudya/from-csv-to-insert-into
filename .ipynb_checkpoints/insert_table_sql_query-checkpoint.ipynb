{
 "cells": [
  {
   "cell_type": "code",
   "execution_count": 122,
   "id": "2b21d8b8",
   "metadata": {},
   "outputs": [],
   "source": [
    "import pandas as pd\n",
    "import numpy as np\n",
    "import csv\n"
   ]
  },
  {
   "cell_type": "code",
   "execution_count": 123,
   "id": "79a2c6a4",
   "metadata": {},
   "outputs": [],
   "source": [
    "input_table=pd.read_csv(\"mapping_internet_omni.csv\")"
   ]
  },
  {
   "cell_type": "code",
   "execution_count": 124,
   "id": "07fb39e5",
   "metadata": {},
   "outputs": [],
   "source": [
    "def query(table,string_cols): #string colscould be in index (int) or name of the column\n",
    "    for i, row in table.iterrows():\n",
    "        for j in string_cols: #jadiin string\n",
    "            table.iloc[i][j]=f'\"{table.iloc[i][j]}\"'\n",
    "            if j == 0:\n",
    "                table.iloc[i][j]='('+table.iloc[i][j]\n",
    "            elif j == table.shape[1]-1 and i != table.shape[0]-1:\n",
    "                table.iloc[i][j]=table.iloc[i][j]+'),'\n",
    "            elif j == table.shape[1]-1 and i == table.shape[0]-1:\n",
    "                table.iloc[i][j]=table.iloc[i][j]+')'\n"
   ]
  },
  {
   "cell_type": "code",
   "execution_count": 125,
   "id": "c1cf684a",
   "metadata": {},
   "outputs": [
    {
     "data": {
      "text/plain": [
       "3"
      ]
     },
     "execution_count": 125,
     "metadata": {},
     "output_type": "execute_result"
    }
   ],
   "source": [
    "input_table.shape[1]"
   ]
  },
  {
   "cell_type": "code",
   "execution_count": 126,
   "id": "eafcbc9a",
   "metadata": {},
   "outputs": [],
   "source": [
    "query(input_table,[0,1,2])"
   ]
  },
  {
   "cell_type": "code",
   "execution_count": 127,
   "id": "a19cecf2",
   "metadata": {},
   "outputs": [
    {
     "data": {
      "text/html": [
       "<div>\n",
       "<style scoped>\n",
       "    .dataframe tbody tr th:only-of-type {\n",
       "        vertical-align: middle;\n",
       "    }\n",
       "\n",
       "    .dataframe tbody tr th {\n",
       "        vertical-align: top;\n",
       "    }\n",
       "\n",
       "    .dataframe thead th {\n",
       "        text-align: right;\n",
       "    }\n",
       "</style>\n",
       "<table border=\"1\" class=\"dataframe\">\n",
       "  <thead>\n",
       "    <tr style=\"text-align: right;\">\n",
       "      <th></th>\n",
       "      <th>trx_type</th>\n",
       "      <th>tx_desc</th>\n",
       "      <th>menu</th>\n",
       "    </tr>\n",
       "  </thead>\n",
       "  <tbody>\n",
       "    <tr>\n",
       "      <th>0</th>\n",
       "      <td>(\"CLR\"</td>\n",
       "      <td>\"BANK MANDIRI TASPEN POS\"</td>\n",
       "      <td>\"Transfer Antar Bank\"),</td>\n",
       "    </tr>\n",
       "    <tr>\n",
       "      <th>1</th>\n",
       "      <td>(\"CLR\"</td>\n",
       "      <td>\"BANK MAYAPADA\"</td>\n",
       "      <td>\"Transfer Antar Bank\"),</td>\n",
       "    </tr>\n",
       "    <tr>\n",
       "      <th>2</th>\n",
       "      <td>(\"CLR\"</td>\n",
       "      <td>\"BANK MEGA\"</td>\n",
       "      <td>\"Transfer Antar Bank\"),</td>\n",
       "    </tr>\n",
       "    <tr>\n",
       "      <th>3</th>\n",
       "      <td>(\"CLR\"</td>\n",
       "      <td>\"BANK MESTIKA DHARMA\"</td>\n",
       "      <td>\"Transfer Antar Bank\"),</td>\n",
       "    </tr>\n",
       "    <tr>\n",
       "      <th>4</th>\n",
       "      <td>(\"CLR\"</td>\n",
       "      <td>\"BANK MIZUHO INDONESIA\"</td>\n",
       "      <td>\"Transfer Antar Bank\"),</td>\n",
       "    </tr>\n",
       "    <tr>\n",
       "      <th>...</th>\n",
       "      <td>...</td>\n",
       "      <td>...</td>\n",
       "      <td>...</td>\n",
       "    </tr>\n",
       "    <tr>\n",
       "      <th>460</th>\n",
       "      <td>(\"SWT\"</td>\n",
       "      <td>\"PT. Bank IBK Indonesia\"</td>\n",
       "      <td>\"Transfer Antar Bank\"),</td>\n",
       "    </tr>\n",
       "    <tr>\n",
       "      <th>461</th>\n",
       "      <td>(\"SWT\"</td>\n",
       "      <td>\"STANDARD CHARTERED BANK\"</td>\n",
       "      <td>\"Transfer Antar Bank\"),</td>\n",
       "    </tr>\n",
       "    <tr>\n",
       "      <th>462</th>\n",
       "      <td>(\"SWT\"</td>\n",
       "      <td>\"TCASH\"</td>\n",
       "      <td>\"Transfer Antar Bank\"),</td>\n",
       "    </tr>\n",
       "    <tr>\n",
       "      <th>463</th>\n",
       "      <td>(\"UTBK LTMPT\"</td>\n",
       "      <td>\"UTBK LTMPT\"</td>\n",
       "      <td>\"Payment Pendidikan\"),</td>\n",
       "    </tr>\n",
       "    <tr>\n",
       "      <th>464</th>\n",
       "      <td>(\"WIB\"</td>\n",
       "      <td>\"HMBNK\"</td>\n",
       "      <td>\"Others\")</td>\n",
       "    </tr>\n",
       "  </tbody>\n",
       "</table>\n",
       "<p>465 rows × 3 columns</p>\n",
       "</div>"
      ],
      "text/plain": [
       "          trx_type                    tx_desc                     menu\n",
       "0           (\"CLR\"  \"BANK MANDIRI TASPEN POS\"  \"Transfer Antar Bank\"),\n",
       "1           (\"CLR\"            \"BANK MAYAPADA\"  \"Transfer Antar Bank\"),\n",
       "2           (\"CLR\"                \"BANK MEGA\"  \"Transfer Antar Bank\"),\n",
       "3           (\"CLR\"      \"BANK MESTIKA DHARMA\"  \"Transfer Antar Bank\"),\n",
       "4           (\"CLR\"    \"BANK MIZUHO INDONESIA\"  \"Transfer Antar Bank\"),\n",
       "..             ...                        ...                      ...\n",
       "460         (\"SWT\"   \"PT. Bank IBK Indonesia\"  \"Transfer Antar Bank\"),\n",
       "461         (\"SWT\"  \"STANDARD CHARTERED BANK\"  \"Transfer Antar Bank\"),\n",
       "462         (\"SWT\"                    \"TCASH\"  \"Transfer Antar Bank\"),\n",
       "463  (\"UTBK LTMPT\"               \"UTBK LTMPT\"   \"Payment Pendidikan\"),\n",
       "464         (\"WIB\"                    \"HMBNK\"                \"Others\")\n",
       "\n",
       "[465 rows x 3 columns]"
      ]
     },
     "execution_count": 127,
     "metadata": {},
     "output_type": "execute_result"
    }
   ],
   "source": [
    "input_table\n"
   ]
  },
  {
   "cell_type": "code",
   "execution_count": 116,
   "id": "7d792b32",
   "metadata": {},
   "outputs": [],
   "source": [
    "input_table.to_csv('kutip3.txt',index=False,header=False, quotechar='\"',quoting=csv.QUOTE_NONE)"
   ]
  },
  {
   "cell_type": "markdown",
   "id": "c0b9f50c",
   "metadata": {},
   "source": []
  },
  {
   "cell_type": "code",
   "execution_count": null,
   "id": "12950996",
   "metadata": {},
   "outputs": [],
   "source": []
  }
 ],
 "metadata": {
  "kernelspec": {
   "display_name": "Python 3",
   "language": "python",
   "name": "python3"
  },
  "language_info": {
   "codemirror_mode": {
    "name": "ipython",
    "version": 3
   },
   "file_extension": ".py",
   "mimetype": "text/x-python",
   "name": "python",
   "nbconvert_exporter": "python",
   "pygments_lexer": "ipython3",
   "version": "3.8.8"
  }
 },
 "nbformat": 4,
 "nbformat_minor": 5
}
